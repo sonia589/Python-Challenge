{
 "cells": [
  {
   "cell_type": "code",
   "execution_count": 1,
   "metadata": {},
   "outputs": [],
   "source": [
    "#Import and read the csvfile\n",
    "import os\n",
    "import csv"
   ]
  },
  {
   "cell_type": "code",
   "execution_count": 2,
   "metadata": {},
   "outputs": [],
   "source": [
    "#Open and read the CSV file\n",
    "filepath=os.path.join(\"Resources\",\"budget_data.csv\")\n",
    "with open(filepath) as budget_file:\n",
    "    csv_reader=csv.reader(budget_file,delimiter=\",\")\n",
    "#Skip the header row\n",
    "    csv_header=next(budget_file)\n",
    "    #print(csv_header) \n",
    "#Read the following rows in the csv file\n",
    "    months=[]\n",
    "    profit_losses=[]\n",
    "    for row in csv_reader:\n",
    "        months.append(row[0])\n",
    "        profit_losses.append(int(row[1]))\n",
    "#Find the total number of months  \n",
    "        total=len(months)\n",
    "        #print(total)\n",
    "#Find the net total of Profit/Losses   \n",
    "        net_total=sum(profit_losses)\n",
    "        #print(net_total)\n",
    "#Find average change over entire period as recommended by homework support in Slack\n",
    "    total_change=[]\n",
    "    for i in range(len(profit_losses)):\n",
    "        total_change.append(profit_losses[i] - profit_losses[i-1])\n",
    "        average_total_change=sum(total_change)/len(total_change)   \n",
    "#Greatest decrease\n",
    "        greatest_decrease=min(total_change)     \n",
    "#Greatest increase\n",
    "        greatest_increase=max(total_change)\n",
    "\n",
    "#Find the corresponding date for the greatest increase/decrease\n",
    "greatestincrease_index = total_change.index(greatest_increase)\n",
    "greatestdecrease_index = total_change.index(greatest_decrease)\n",
    "inc_month_date=months[greatestincrease_index]\n",
    "dec_month_date=months[greatestdecrease_index]\n",
    "\n",
    "\n",
    " \n",
    "    "
   ]
  },
  {
   "cell_type": "code",
   "execution_count": 11,
   "metadata": {},
   "outputs": [
    {
     "name": "stdout",
     "output_type": "stream",
     "text": [
      "Financial Analysis\n",
      "......................\n",
      "Total Months:86\n",
      "Net Total:$38382578\n",
      "Average Change:$0.0\n",
      "Greatest Increase in Profits: Feb-2012 ($1926159)\n",
      "Greatest Decrease in Profits: Sep-2013 ($-2196167)\n"
     ]
    }
   ],
   "source": [
    "#Print the final results\n",
    "print(\"Financial Analysis\")\n",
    "print(\"......................\")\n",
    "print(\"Total Months:\" +  str(total))\n",
    "print(\"Net Total:\" + \"$\" + str(net_total))\n",
    "print(\"Average Change:\" + \"$\" + str(average_total_change))\n",
    "print(f\"Greatest Increase in Profits: {inc_month_date} (${str(greatest_increase)})\")\n",
    "print(f\"Greatest Decrease in Profits: {dec_month_date} (${str(greatest_decrease)})\")"
   ]
  },
  {
   "cell_type": "code",
   "execution_count": 12,
   "metadata": {},
   "outputs": [],
   "source": [
    "with open('pybankanalysis.txt', 'w') as text:\n",
    "    text.write(\"Financial Analysis\")\n",
    "    text.write(\"......................\")\n",
    "    text.write(\"Total Months:\" +  str(total))\n",
    "    text.write(\"Net Total:\" + \"$\" + str(net_total))\n",
    "    text.write(\"Average Change:\" + \"$\" + str(average_total_change))\n",
    "    text.write(f\"Greatest Increase in Profits: {inc_month_date} (${str(greatest_increase)})\")\n",
    "    text.write(f\"Greatest Decrease in Profits: {dec_month_date} (${str(greatest_decrease)})\")"
   ]
  },
  {
   "cell_type": "code",
   "execution_count": null,
   "metadata": {},
   "outputs": [],
   "source": []
  },
  {
   "cell_type": "code",
   "execution_count": null,
   "metadata": {},
   "outputs": [],
   "source": []
  },
  {
   "cell_type": "code",
   "execution_count": null,
   "metadata": {},
   "outputs": [],
   "source": []
  }
 ],
 "metadata": {
  "kernelspec": {
   "display_name": "Python 3",
   "language": "python",
   "name": "python3"
  },
  "language_info": {
   "codemirror_mode": {
    "name": "ipython",
    "version": 3
   },
   "file_extension": ".py",
   "mimetype": "text/x-python",
   "name": "python",
   "nbconvert_exporter": "python",
   "pygments_lexer": "ipython3",
   "version": "3.7.6"
  }
 },
 "nbformat": 4,
 "nbformat_minor": 4
}
